{
 "cells": [
  {
   "cell_type": "markdown",
   "metadata": {
    "run_control": {
     "frozen": false,
     "read_only": false
    }
   },
   "source": [
    "# Search\n",
    "\n",
    "Question: Given a sorted list of numbers, find the index of a specific value in the list. If no such value, return -1.\n",
    "\n",
    "**Solution 1**: Sequential Search"
   ]
  },
  {
   "cell_type": "code",
   "execution_count": 1,
   "metadata": {
    "collapsed": true
   },
   "outputs": [],
   "source": [
    "import time\n",
    "import random\n",
    "\n",
    "import matplotlib.pyplot as plt\n",
    "%matplotlib inline  \n",
    "\n",
    "def generate_random_array(n):\n",
    "    return [random.random() for e in range(n)]"
   ]
  },
  {
   "cell_type": "code",
   "execution_count": 2,
   "metadata": {},
   "outputs": [
    {
     "ename": "ValueError",
     "evalue": "100 is not in list",
     "output_type": "error",
     "traceback": [
      "\u001b[1;31m---------------------------------------------------------------------------\u001b[0m",
      "\u001b[1;31mValueError\u001b[0m                                Traceback (most recent call last)",
      "\u001b[1;32m<ipython-input-2-7ada3b93430e>\u001b[0m in \u001b[0;36m<module>\u001b[1;34m()\u001b[0m\n\u001b[0;32m      1\u001b[0m \u001b[1;36m3\u001b[0m \u001b[1;32min\u001b[0m \u001b[1;33m[\u001b[0m\u001b[1;36m1\u001b[0m\u001b[1;33m,\u001b[0m \u001b[1;36m2\u001b[0m\u001b[1;33m,\u001b[0m \u001b[1;36m3\u001b[0m\u001b[1;33m]\u001b[0m \u001b[1;31m# => True\u001b[0m\u001b[1;33m\u001b[0m\u001b[0m\n\u001b[0;32m      2\u001b[0m \u001b[0mnums\u001b[0m \u001b[1;33m=\u001b[0m \u001b[0mgenerate_random_array\u001b[0m\u001b[1;33m(\u001b[0m\u001b[1;36m1000\u001b[0m\u001b[1;33m)\u001b[0m\u001b[1;33m\u001b[0m\u001b[0m\n\u001b[1;32m----> 3\u001b[1;33m \u001b[0mnums\u001b[0m\u001b[1;33m.\u001b[0m\u001b[0mindex\u001b[0m\u001b[1;33m(\u001b[0m\u001b[1;36m100\u001b[0m\u001b[1;33m)\u001b[0m\u001b[1;33m\u001b[0m\u001b[0m\n\u001b[0m",
      "\u001b[1;31mValueError\u001b[0m: 100 is not in list"
     ]
    }
   ],
   "source": [
    "3 in [1, 2, 3] # => True\n",
    "nums = generate_random_array(1000)\n",
    "nums.index(100)"
   ]
  },
  {
   "cell_type": "code",
   "execution_count": 5,
   "metadata": {},
   "outputs": [
    {
     "data": {
      "text/plain": [
       "[(False, 10000, 0.0),\n",
       " (False, 20000, 0.0009999275207519531),\n",
       " (False, 30000, 0.002000093460083008),\n",
       " (False, 40000, 0.0009999275207519531),\n",
       " (False, 50000, 0.0019998550415039062),\n",
       " (False, 60000, 0.002000093460083008),\n",
       " (False, 70000, 0.003000020980834961),\n",
       " (False, 80000, 0.003999948501586914),\n",
       " (False, 90000, 0.004000186920166016),\n",
       " (False, 100000, 0.011999845504760742),\n",
       " (False, 110000, 0.004000186920166016),\n",
       " (False, 120000, 0.007999897003173828),\n",
       " (False, 130000, 0.00599980354309082),\n",
       " (False, 140000, 0.004999876022338867),\n",
       " (False, 150000, 0.0070002079010009766),\n",
       " (False, 160000, 0.006000041961669922),\n",
       " (False, 170000, 0.009000062942504883),\n",
       " (False, 180000, 0.007999897003173828),\n",
       " (False, 190000, 0.00800013542175293),\n",
       " (False, 200000, 0.008999824523925781)]"
      ]
     },
     "execution_count": 5,
     "metadata": {},
     "output_type": "execute_result"
    }
   ],
   "source": [
    "random_lists = [generate_random_array(10000 * n) for n in range(1, 21)]\n",
    "\n",
    "def search(nums):\n",
    "    import time\n",
    "    start = time.time()\n",
    "    r = 1 in nums\n",
    "    t = time.time() - start\n",
    "    return r, len(nums), t\n",
    "\n",
    "rst = [search(l) for l in random_lists]\n",
    "rst"
   ]
  },
  {
   "cell_type": "code",
   "execution_count": 6,
   "metadata": {},
   "outputs": [
    {
     "data": {
      "text/plain": [
       "[<matplotlib.lines.Line2D at 0x7f23048>]"
      ]
     },
     "execution_count": 6,
     "metadata": {},
     "output_type": "execute_result"
    },
    {
     "data": {
      "image/png": "[encoded data removed]",
      "text/plain": [
       "<matplotlib.figure.Figure at 0x81f7160>"
      ]
     },
     "metadata": {},
     "output_type": "display_data"
    }
   ],
   "source": [
    "x = list(zip(*rst))[1]\n",
    "y = list(zip(*rst))[2]\n",
    "\n",
    "plt.plot(x, y)"
   ]
  },
  {
   "cell_type": "code",
   "execution_count": 10,
   "metadata": {
    "collapsed": true,
    "run_control": {
     "frozen": false,
     "read_only": false
    }
   },
   "outputs": [],
   "source": [
    "def search(num_list, val):\n",
    "    # If empty\n",
    "    if num_list == None:\n",
    "        return -1\n",
    "    \n",
    "    for i in range(0, len(num_list)):\n",
    "        if (num_list[i] == val):\n",
    "            return i\n",
    "    return -1"
   ]
  },
  {
   "cell_type": "code",
   "execution_count": 5,
   "metadata": {
    "run_control": {
     "frozen": false,
     "read_only": false
    }
   },
   "outputs": [
    {
     "name": "stdout",
     "output_type": "stream",
     "text": [
      "4\n",
      "-1\n"
     ]
    }
   ],
   "source": [
    "num_list = [1,2,3,5,7,8,9]\n",
    "print(search(num_list, 7))\n",
    "print(search(num_list, 4))"
   ]
  },
  {
   "cell_type": "markdown",
   "metadata": {
    "run_control": {
     "frozen": false,
     "read_only": false
    }
   },
   "source": [
    "**Solution 2**: Binary Search (recursive)"
   ]
  },
  {
   "cell_type": "code",
   "execution_count": 45,
   "metadata": {
    "collapsed": true,
    "run_control": {
     "frozen": false,
     "read_only": false
    }
   },
   "outputs": [],
   "source": [
    "def bi_search_re(num_list, val):\n",
    "    def bi_search(l, h):\n",
    "        # Not found\n",
    "        if l > h:\n",
    "            return -1\n",
    "        \n",
    "        # Check mid\n",
    "        mid = (l + h) // 2\n",
    "        if (num_list[mid] == val):\n",
    "            return mid;\n",
    "        elif (num_list[mid] < val):\n",
    "            return bi_search(mid + 1, h)\n",
    "        else:\n",
    "            return bi_search(l, mid - 1)\n",
    "        \n",
    "    return bi_search(0, len(num_list))"
   ]
  },
  {
   "cell_type": "code",
   "execution_count": null,
   "metadata": {
    "collapsed": true,
    "run_control": {
     "frozen": false,
     "read_only": false
    }
   },
   "outputs": [],
   "source": [
    "num_list = [1,2,3,5,7,8,9]\n",
    "print(search(num_list, 7))\n",
    "print(search(num_list, 4))"
   ]
  },
  {
   "cell_type": "markdown",
   "metadata": {
    "run_control": {
     "frozen": false,
     "read_only": false
    }
   },
   "source": [
    "**Solution 3**: Binary Search (iterative)"
   ]
  },
  {
   "cell_type": "code",
   "execution_count": 3,
   "metadata": {
    "collapsed": true,
    "run_control": {
     "frozen": false,
     "read_only": false
    }
   },
   "outputs": [],
   "source": [
    "def bi_search_iter(alist, item):\n",
    "    left, right = 0, len(alist) - 1\n",
    "    while left <= right:\n",
    "        mid = left + (right - left) // 2   #(left + right) // 2\n",
    "        if alist[mid] < item:\n",
    "            left = mid + 1\n",
    "        elif alist[mid] > item:\n",
    "            right = mid - 1\n",
    "        else: # alist[mid] = item\n",
    "            return mid\n",
    "    return -1"
   ]
  },
  {
   "cell_type": "code",
   "execution_count": 4,
   "metadata": {
    "run_control": {
     "frozen": false,
     "read_only": false
    }
   },
   "outputs": [
    {
     "name": "stdout",
     "output_type": "stream",
     "text": [
      "4\n",
      "-1\n"
     ]
    }
   ],
   "source": [
    "num_list = [1,2,3,5,7,8,9]\n",
    "print(bi_search_iter(num_list, 7))\n",
    "print(bi_search_iter(num_list, 4))"
   ]
  },
  {
   "cell_type": "code",
   "execution_count": 7,
   "metadata": {
    "collapsed": true
   },
   "outputs": [],
   "source": [
    "import unittest\n",
    "class TestBinarySearch1(unittest.TestCase):\n",
    "    def setUp(self):\n",
    "        self._f = bi_search_iter\n",
    "    \n",
    "    # test case 1: test empty list\n",
    "    def test_empty(self):\n",
    "        alist = []\n",
    "        r = self._f(alist, 5)\n",
    "        self.assertEqual(-1, r)\n",
    "\n",
    "    # test case 2: test list with one element\n",
    "    def test_one(self):\n",
    "        alist = [1]\n",
    "        r = self._f(alist, 0)\n",
    "        self.assertEqual(-1, r)\n",
    "        r = self._f(alist, 1)\n",
    "        self.assertEqual(0, r)\n",
    "\n",
    "    def test_two(self):\n",
    "        alist = [1,10]\n",
    "        r = self._f(alist, 0)\n",
    "        self.assertEqual(-1, r)\n",
    "        r = self._f(alist, 1)\n",
    "        self.assertEqual(0, r)\n",
    "        r = self._f(alist, 2)\n",
    "        self.assertEqual(-1, r)\n",
    "        r = self._f(alist, 10)\n",
    "        self.assertEqual(1, r)\n",
    "        r = self._f(alist, 11)\n",
    "        self.assertEqual(-1, r)\n",
    "        \n",
    "    def test_multiple(self):\n",
    "        alist = [1,2,3,4,5]\n",
    "        r = self._f(alist, 5)\n",
    "        self.assertEqual(4, r)\n",
    "        r = self._f(alist, 4)\n",
    "        self.assertEqual(3, r)\n",
    "        r = self._f(alist, 2)\n",
    "        self.assertEqual(1, r)\n",
    "        r = self._f(alist, 1)\n",
    "        self.assertEqual(0, r)\n",
    "        r = self._f(alist, 6)\n",
    "        self.assertEqual(-1, r)\n",
    "        r = self._f(alist, 0)\n",
    "        self.assertEqual(-1, r)\n",
    "        \n",
    "    def test_duplicate(self):\n",
    "        alist = [1,1,1,2,3,3,3,3,3,3,4,5,5,5]\n",
    "        r = self._f(alist, 5)\n",
    "        self.assertEqual(5, alist[r])\n",
    "        r = self._f(alist, 4)\n",
    "        self.assertEqual(4, alist[r])\n",
    "        r = self._f(alist, 2)\n",
    "        self.assertEqual(2, alist[r])\n",
    "        r = self._f(alist, 3)\n",
    "        self.assertEqual(3, alist[r])\n",
    "        r = self._f(alist, 1)\n",
    "        self.assertEqual(1, alist[r])\n",
    "        r = self._f(alist, 6)\n",
    "        self.assertEqual(-1, -1)\n",
    "        r = self._f(alist, 0)\n",
    "        self.assertEqual(-1, -1)\n"
   ]
  },
  {
   "cell_type": "code",
   "execution_count": 8,
   "metadata": {},
   "outputs": [
    {
     "name": "stderr",
     "output_type": "stream",
     "text": [
      ".F...\n",
      "======================================================================\n",
      "FAIL: test_empty (__main__.TestBinarySearch1)\n",
      "----------------------------------------------------------------------\n",
      "Traceback (most recent call last):\n",
      "  File \"<ipython-input-7-44ea1b6ef9f6>\", line 10, in test_empty\n",
      "    self.assertEqual(0, r)\n",
      "AssertionError: 0 != -1\n",
      "\n",
      "----------------------------------------------------------------------\n",
      "Ran 5 tests in 0.018s\n",
      "\n",
      "FAILED (failures=1)\n"
     ]
    }
   ],
   "source": [
    "if __name__ == '__main__':\n",
    "    unittest.main(argv=['first-arg-is-ignored'], exit=False)"
   ]
  },
  {
   "cell_type": "code",
   "execution_count": 66,
   "metadata": {
    "collapsed": true
   },
   "outputs": [],
   "source": [
    "class TestBinarySearch1(unittest.TestCase):\n",
    "    def setUp(self):\n",
    "        self._f = binarysearch\n",
    "        \n",
    "    def test_first_found(self):\n",
    "        alist = [1,1,1,2,3,3,3,3,3,3,4,5,5,5]\n",
    "        r = self._f(alist, 1)\n",
    "        self.assertEqual(0, r)"
   ]
  },
  {
   "cell_type": "code",
   "execution_count": 67,
   "metadata": {},
   "outputs": [
    {
     "name": "stderr",
     "output_type": "stream",
     "text": [
      ".\n",
      "----------------------------------------------------------------------\n",
      "Ran 1 test in 0.010s\n",
      "\n",
      "OK\n"
     ]
    }
   ],
   "source": [
    "if __name__ == '__main__':\n",
    "    unittest.main(argv=['first-arg-is-ignored'], exit=False)"
   ]
  },
  {
   "cell_type": "code",
   "execution_count": 53,
   "metadata": {
    "collapsed": true
   },
   "outputs": [],
   "source": [
    "def binarysearch(alist, item):\n",
    "    if len(alist) == 0:\n",
    "        return -1\n",
    "    \n",
    "    left, right = 0, len(alist) - 1\n",
    "    while left + 1 < right:\n",
    "        mid = left + (right - left) // 2\n",
    "        if alist[mid] == item:\n",
    "            right = mid\n",
    "        elif alist[mid] < item:\n",
    "            left = mid\n",
    "        elif alist[mid] > item:\n",
    "            right = mid\n",
    "    \n",
    "    if alist[left] == item:\n",
    "        return left\n",
    "    if alist[right] == item:\n",
    "        return right\n",
    "    \n",
    "    return -1"
   ]
  },
  {
   "cell_type": "code",
   "execution_count": null,
   "metadata": {
    "collapsed": true
   },
   "outputs": [],
   "source": []
  }
 ],
 "metadata": {
  "kernelspec": {
   "display_name": "Python 3",
   "language": "python",
   "name": "python3"
  },
  "language_info": {
   "codemirror_mode": {
    "name": "ipython",
    "version": 3
   },
   "file_extension": ".py",
   "mimetype": "text/x-python",
   "name": "python",
   "nbconvert_exporter": "python",
   "pygments_lexer": "ipython3",
   "version": "3.6.1"
  }
 },
 "nbformat": 4,
 "nbformat_minor": 2
}
